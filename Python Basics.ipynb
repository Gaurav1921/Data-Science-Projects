{
 "cells": [
  {
   "cell_type": "markdown",
   "id": "cb4a46ce",
   "metadata": {},
   "source": [
    "## Values and Data Types\n",
    "In the <i>\"Python Interpretor\"</i>, we write <i>\"source code\"<i> and we get the output when we finally <i>\"run\"</i> the <i>\"programme\"</i>."
   ]
  },
  {
   "cell_type": "code",
   "execution_count": 16,
   "id": "118230d2",
   "metadata": {},
   "outputs": [
    {
     "name": "stdout",
     "output_type": "stream",
     "text": [
      "Hello World\n"
     ]
    }
   ],
   "source": [
    "print(\"Hello World\")"
   ]
  },
  {
   "cell_type": "code",
   "execution_count": 17,
   "id": "d547ef42",
   "metadata": {},
   "outputs": [],
   "source": [
    "# print(\"Hello World\")     (comments)"
   ]
  },
  {
   "cell_type": "markdown",
   "id": "cfb8fc8b",
   "metadata": {},
   "source": [
    "When we are code its actually we are writing expressions to get the result. When we write expression then python interprestor computes the <i>\"value\"</i> of the expression. Every value also has a <i>\"type\"</i>. Type is just a category of data."
   ]
  },
  {
   "cell_type": "code",
   "execution_count": 18,
   "id": "4328fd2c",
   "metadata": {},
   "outputs": [
    {
     "data": {
      "text/plain": [
       "300"
      ]
     },
     "execution_count": 18,
     "metadata": {},
     "output_type": "execute_result"
    }
   ],
   "source": [
    "100 + 200    # expression"
   ]
  },
  {
   "cell_type": "code",
   "execution_count": 21,
   "id": "0f403bce",
   "metadata": {},
   "outputs": [
    {
     "data": {
      "text/plain": [
       "int"
      ]
     },
     "execution_count": 21,
     "metadata": {},
     "output_type": "execute_result"
    }
   ],
   "source": [
    "type(300)     # checking the type of value (300) obtained by running the expression"
   ]
  },
  {
   "cell_type": "code",
   "execution_count": 22,
   "id": "8a3bcc20",
   "metadata": {},
   "outputs": [
    {
     "data": {
      "text/plain": [
       "float"
      ]
     },
     "execution_count": 22,
     "metadata": {},
     "output_type": "execute_result"
    }
   ],
   "source": [
    "type(3.14)"
   ]
  },
  {
   "cell_type": "code",
   "execution_count": 20,
   "id": "c97a4ea2",
   "metadata": {},
   "outputs": [
    {
     "data": {
      "text/plain": [
       "str"
      ]
     },
     "execution_count": 20,
     "metadata": {},
     "output_type": "execute_result"
    }
   ],
   "source": [
    "type(\"Hello World\")"
   ]
  },
  {
   "cell_type": "code",
   "execution_count": 23,
   "id": "c4078c20",
   "metadata": {},
   "outputs": [
    {
     "data": {
      "text/plain": [
       "list"
      ]
     },
     "execution_count": 23,
     "metadata": {},
     "output_type": "execute_result"
    }
   ],
   "source": [
    "type([1,2,3,4])"
   ]
  },
  {
   "cell_type": "markdown",
   "id": "938b59eb",
   "metadata": {},
   "source": [
    "<i>\"Literal expressions\"</i> - when the value of the expression as output is same as the input "
   ]
  },
  {
   "cell_type": "code",
   "execution_count": 24,
   "id": "af6be902",
   "metadata": {},
   "outputs": [
    {
     "data": {
      "text/plain": [
       "100"
      ]
     },
     "execution_count": 24,
     "metadata": {},
     "output_type": "execute_result"
    }
   ],
   "source": [
    "100"
   ]
  },
  {
   "cell_type": "markdown",
   "id": "a34f079d",
   "metadata": {},
   "source": [
    "1. Write a Python program to print the following string in a specific format (see the output). Go to the editor\n",
    "Sample String : \"Twinkle, twinkle, little star, How I wonder what you are! Up above the world so high, Like a diamond in the sky. Twinkle, twinkle, little star, How I wonder what you are\" Output :\n",
    "\n",
    "<pre>Twinkle, twinkle, little star,\n",
    "\tHow I wonder what you are! \n",
    "\t\tUp above the world so high,   \t\t\n",
    "\t\tLike a diamond in the sky. \n",
    "Twinkle, twinkle, little star, \n",
    "\tHow I wonder what you are</pre>"
   ]
  },
  {
   "cell_type": "code",
   "execution_count": null,
   "id": "fefbca01",
   "metadata": {},
   "outputs": [],
   "source": []
  }
 ],
 "metadata": {
  "kernelspec": {
   "display_name": "Python 3 (ipykernel)",
   "language": "python",
   "name": "python3"
  },
  "language_info": {
   "codemirror_mode": {
    "name": "ipython",
    "version": 3
   },
   "file_extension": ".py",
   "mimetype": "text/x-python",
   "name": "python",
   "nbconvert_exporter": "python",
   "pygments_lexer": "ipython3",
   "version": "3.9.4"
  }
 },
 "nbformat": 4,
 "nbformat_minor": 5
}
